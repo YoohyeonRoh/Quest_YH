{
  "nbformat": 4,
  "nbformat_minor": 0,
  "metadata": {
    "colab": {
      "provenance": [],
      "authorship_tag": "ABX9TyMOGqO7zgF8LG+0+LEuWCkr",
      "include_colab_link": true
    },
    "kernelspec": {
      "name": "python3",
      "display_name": "Python 3"
    },
    "language_info": {
      "name": "python"
    }
  },
  "cells": [
    {
      "cell_type": "markdown",
      "metadata": {
        "id": "view-in-github",
        "colab_type": "text"
      },
      "source": [
        "<a href=\"https://colab.research.google.com/github/YoohyeonRoh/Quest_YH/blob/main/Quest4_with%20Park.ipynb\" target=\"_parent\"><img src=\"https://colab.research.google.com/assets/colab-badge.svg\" alt=\"Open In Colab\"/></a>"
      ]
    },
    {
      "cell_type": "code",
      "source": [
        "# 물고기 클래스 만들기\n",
        "class Fish:\n",
        "  def __init__(self, name, velocity):\n",
        "    self.name = name\n",
        "    self.velocity = velocity\n",
        "#     self.show_parameter() # 리스트와 클래스 연결\n",
        "\n",
        "# # 리스트와 클래스 연결\n",
        "#   def show_parameter(self): \n",
        "#     print(f'{self.name} is swimming at {self.velocity} m/s')\n",
        "\n",
        "\n",
        "# Using Iterator\n",
        "def show_fish_movement_iterator(fish_list):\n",
        "  for i in fish_list:\n",
        "    print(f'{i.name} is swimming at {i.velocity} m/s')\n",
        "\n",
        "# Using comprehension\n",
        "def show_fish_movement_comprehension(fish_list):\n",
        "  [print(f'{fish.name} is swimming at {fish.velocity} m/s') for fish in fish_list]\n",
        "\n"
      ],
      "metadata": {
        "id": "IuKsY8LKkk7E"
      },
      "execution_count": 44,
      "outputs": []
    },
    {
      "cell_type": "code",
      "source": [
        "# 물고기 리스트\n",
        "fish_list = [\n",
        "    Fish(\"Nemo\", 3),\n",
        "    Fish(\"Dory\", 5),\n",
        "    Fish(\"Marlin\", 7),\n",
        "    Fish(\"Bubbles\", 2),\n",
        "    Fish(\"Gill\", 4)\n",
        "] \n",
        "\n",
        "# 이터레이터\n",
        "print(\"Using Iterator:\")\n",
        "show_fish_movement_iterator(fish_list)\n",
        "\n",
        "# 컴프리핸션\n",
        "print(\"Using Comprehension:\")\n",
        "show_fish_movement_comprehension(fish_list)  \n"
      ],
      "metadata": {
        "colab": {
          "base_uri": "https://localhost:8080/"
        },
        "id": "QacOwNV9n4hc",
        "outputId": "1b4dd95b-bd3e-4fa4-fc34-31d22ffbd7ba"
      },
      "execution_count": 45,
      "outputs": [
        {
          "output_type": "stream",
          "name": "stdout",
          "text": [
            "Using Iterator:\n",
            "Nemo is swimming at 3 m/s\n",
            "Dory is swimming at 5 m/s\n",
            "Marlin is swimming at 7 m/s\n",
            "Bubbles is swimming at 2 m/s\n",
            "Gill is swimming at 4 m/s\n",
            "Using Comprehension:\n",
            "Nemo is swimming at 3 m/s\n",
            "Dory is swimming at 5 m/s\n",
            "Marlin is swimming at 7 m/s\n",
            "Bubbles is swimming at 2 m/s\n",
            "Gill is swimming at 4 m/s\n"
          ]
        }
      ]
    },
    {
      "cell_type": "code",
      "source": [],
      "metadata": {
        "id": "Ko5cP763vc87"
      },
      "execution_count": 37,
      "outputs": []
    },
    {
      "cell_type": "code",
      "source": [
        "\n",
        "\n"
      ],
      "metadata": {
        "id": "1frcT5nrlhXK"
      },
      "execution_count": 31,
      "outputs": []
    },
    {
      "cell_type": "code",
      "source": [],
      "metadata": {
        "id": "UFya6XDFkpB7"
      },
      "execution_count": null,
      "outputs": []
    },
    {
      "cell_type": "code",
      "execution_count": null,
      "metadata": {
        "id": "jPzSjy_RhwBe"
      },
      "outputs": [],
      "source": [
        "# 장르: 함수, 컴프리헨션, 이터레이터, 제너레이터\n",
        "\n",
        "---\n",
        "\n",
        "\n",
        "\n",
        " # 물고기들의 움직임 출력\n",
        "print(\"Using Comprehension:\")\n",
        "show_fish_movement_comprehension(fish_list)\n",
        "\n",
        "print(\"\\nUsing Iterator:\")\n",
        "show_fish_movement_iterator(fish_list)\n",
        "\n",
        "\n",
        "---\n",
        "\n",
        "출력값 :\n",
        "Using Comprehension:\n",
        "Nemo is swimming at 3 m/s\n",
        "Dory is swimming at 5 m/s\n",
        "Marlin is swimming at 7 m/s\n",
        "Bubbles is swimming at 2 m/s\n",
        "Gill is swimming at 4 m/s\n",
        "\n",
        "Using Iterator:\n",
        "Nemo is swimming at 3 m/s\n",
        "Dory is swimming at 5 m/s\n",
        "Marlin is swimming at 7 m/s\n",
        "Bubbles is swimming at 2 m/s\n",
        "Gill is swimming at 4 m/s"
      ]
    }
  ]
}