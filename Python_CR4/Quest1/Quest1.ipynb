{
  "nbformat": 4,
  "nbformat_minor": 0,
  "metadata": {
    "colab": {
      "provenance": [],
      "include_colab_link": true
    },
    "kernelspec": {
      "name": "python3",
      "display_name": "Python 3"
    },
    "language_info": {
      "name": "python"
    }
  },
  "cells": [
    {
      "cell_type": "markdown",
      "metadata": {
        "id": "view-in-github",
        "colab_type": "text"
      },
      "source": [
        "<a href=\"https://colab.research.google.com/github/YoohyeonRoh/first-repository/blob/main/Quest1.ipynb\" target=\"_parent\"><img src=\"https://colab.research.google.com/assets/colab-badge.svg\" alt=\"Open In Colab\"/></a>"
      ]
    },
    {
      "cell_type": "code",
      "execution_count": null,
      "metadata": {
        "id": "2pXich_JNefM",
        "colab": {
          "base_uri": "https://localhost:8080/"
        },
        "outputId": "b9ec5340-0eff-4e76-cddb-2e650d0fe6b2"
      },
      "outputs": [
        {
          "output_type": "stream",
          "name": "stdout",
          "text": [
            "입력값안녕하세요\n",
            "입력된 단어는 회문이 아닙니다.\n"
          ]
        }
      ],
      "source": [
        "word = str(input('입력값'))\n",
        "if word[0] == word[-1]:\n",
        "    print(\"뒤집힌 단어는:\", word[::-1])\n",
        "    print(\"입력된 단어는 회문입니다.\")\n",
        "else:\n",
        "    print(\"입력된 단어는 회문이 아닙니다.\")\n",
        "\n",
        "      "
      ]
    },
    {
      "cell_type": "code",
      "source": [
        " input_str = input()\n",
        " \n",
        " print('입력값: ', input_str)\n",
        " \n",
        " reversed_str = input_str[::-1]\n",
        " \n",
        " if input_str == reversed_str:\n",
        "     print('뒤집힌 단어는: ', reversed_str)\n",
        "     print('입력한 단어는 회문입니다.')\n",
        " else:\n",
        "     print('뒤집힌 단어는: ', reversed_str)\n",
        "     print('입력한 단어는 회문이 아닙니다.')"
      ],
      "metadata": {
        "colab": {
          "base_uri": "https://localhost:8080/"
        },
        "id": "R9cpIGWanQAy",
        "outputId": "3c5c5251-8497-4785-8f51-4990b36f23d6"
      },
      "execution_count": null,
      "outputs": [
        {
          "output_type": "stream",
          "name": "stdout",
          "text": [
            "안녕하세요\n",
            "입력값:  안녕하세요\n",
            "뒤집힌 단어는:  요세하녕안\n",
            "입력한 단어는 회문이 아닙니다.\n"
          ]
        }
      ]
    },
    {
      "cell_type": "code",
      "source": [
        "백기웅/코어/서울 to 노유현/코어/서울\n",
        "12:29 PM\n",
        "def palindrome():\n",
        "\n",
        "word = input(\"이름을 입력해 주세요: \" ) #단어 입력 받기\n",
        "reverse_word = \"\"\n",
        "\n",
        "# for i in range(1,len(word)+1): #단어의 길이.\n",
        "# reverse_word += word[-i] #회문을 만들어 줌.\n",
        "reverse_word = word[::-1]\n",
        "\n",
        "print(\"뒤집힌 단어는:\",reverse_word)\n",
        "\n",
        "if word == reverse_word:\n",
        "print('입력된 단어는 회문입니다.')\n",
        "else:\n",
        "print('입력된 단어는 회문이 아닙니다.')"
      ],
      "metadata": {
        "id": "u--pfMfCqfkN"
      },
      "execution_count": null,
      "outputs": []
    },
    {
      "cell_type": "code",
      "source": [],
      "metadata": {
        "id": "NF3_M2Y-uB8X"
      },
      "execution_count": null,
      "outputs": []
    }
  ]
}