{
  "nbformat": 4,
  "nbformat_minor": 0,
  "metadata": {
    "colab": {
      "provenance": [],
      "include_colab_link": true
    },
    "kernelspec": {
      "name": "python3",
      "display_name": "Python 3"
    },
    "language_info": {
      "name": "python"
    }
  },
  "cells": [
    {
      "cell_type": "markdown",
      "metadata": {
        "id": "view-in-github",
        "colab_type": "text"
      },
      "source": [
        "<a href=\"https://colab.research.google.com/github/YoohyeonRoh/first-repository/blob/main/Quest1.ipynb\" target=\"_parent\"><img src=\"https://colab.research.google.com/assets/colab-badge.svg\" alt=\"Open In Colab\"/></a>"
      ]
    },
    {
      "cell_type": "code",
      "execution_count": null,
      "metadata": {
        "id": "2pXich_JNefM",
        "colab": {
          "base_uri": "https://localhost:8080/"
        },
        "outputId": "b9ec5340-0eff-4e76-cddb-2e650d0fe6b2"
      },
      "outputs": [
        {
          "output_type": "stream",
          "name": "stdout",
          "text": [
            "입력값안녕하세요\n",
            "입력된 단어는 회문이 아닙니다.\n"
          ]
        }
      ],
      "source": [
        "word = str(input('입력값'))\n",
        "if word[0] == word[-1]:\n",
        "    print(\"뒤집힌 단어는:\", word[::-1])\n",
        "    print(\"입력된 단어는 회문입니다.\")\n",
        "else:\n",
        "    print(\"입력된 단어는 회문이 아닙니다.\")\n",
        "\n",
        "      "
      ]
    },
    {
      "cell_type": "code",
      "source": [
        " input_str = input()\n",
        " \n",
        " print('입력값: ', input_str)\n",
        " \n",
        " reversed_str = input_str[::-1]\n",
        " \n",
        " if input_str == reversed_str:\n",
        "     print('뒤집힌 단어는: ', reversed_str, ' 입니다.')\n",
        "     print('입력한 단어는 회문입니다.')\n",
        " else:\n",
        "     print('입력한 단어는 회문이 아닙니다.')"
      ],
      "metadata": {
        "colab": {
          "base_uri": "https://localhost:8080/"
        },
        "id": "R9cpIGWanQAy",
        "outputId": "bd83c241-8964-4bac-fe72-17e3f119e611"
      },
      "execution_count": 28,
      "outputs": [
        {
          "output_type": "stream",
          "name": "stdout",
          "text": [
            "우영화우\n",
            "입력값:  우영화우\n",
            "입력한 단어는 회문이 아닙니다.\n"
          ]
        }
      ]
    }
  ]
}