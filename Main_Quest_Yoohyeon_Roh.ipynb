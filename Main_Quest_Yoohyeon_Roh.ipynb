{
  "nbformat": 4,
  "nbformat_minor": 0,
  "metadata": {
    "colab": {
      "provenance": [],
      "authorship_tag": "ABX9TyPWXyrDc4sblFicE/Y6/ZsT",
      "include_colab_link": true
    },
    "kernelspec": {
      "name": "python3",
      "display_name": "Python 3"
    },
    "language_info": {
      "name": "python"
    }
  },
  "cells": [
    {
      "cell_type": "markdown",
      "metadata": {
        "id": "view-in-github",
        "colab_type": "text"
      },
      "source": [
        "<a href=\"https://colab.research.google.com/github/YoohyeonRoh/Quest_YH/blob/main/Main_Quest_Yoohyeon_Roh.ipynb\" target=\"_parent\"><img src=\"https://colab.research.google.com/assets/colab-badge.svg\" alt=\"Open In Colab\"/></a>"
      ]
    },
    {
      "cell_type": "code",
      "execution_count": 51,
      "metadata": {
        "colab": {
          "base_uri": "https://localhost:8080/"
        },
        "id": "KPjb_ianIyli",
        "outputId": "bb1b135f-bd3a-49f3-b21a-3a7d9d01a80f"
      },
      "outputs": [
        {
          "output_type": "stream",
          "name": "stdout",
          "text": [
            "5000\n",
            "4000\n",
            "1000\n",
            "15000\n",
            "3000\n"
          ]
        }
      ],
      "source": [
        "import random\n",
        "class Account:\n",
        "  account_count = 0                     # 클래스 변수를 0으로 할당\n",
        "  \n",
        "  def __init__(self, name, balance):    # 클래스 생성자 속성 2개\n",
        "    self.name = name\n",
        "    self.balance = balance\n",
        "    self.bank ='SC 은행'\n",
        "    self.deposit_count = 0\n",
        "    self.deposit_total = []\n",
        "    self.withdraw_total = []\n",
        "\n",
        "    num1 = random.randint(0,999)        # 3자리 랜덤한 수 뽑기\n",
        "    num2 = random.randint(0,99)         # 2자리 랜덤한 수 뽑기\n",
        "    num3 = random.randint(0,999999)     # 6자리 랜덤한 수 뽑기\n",
        "\n",
        "    num1 = str(num1).zfill(3)           # 수를 문자화한 후, 나머지 자리에 '0'을 채워넣기\n",
        "    num2 = str(num2).zfill(2)\n",
        "    num3 = str(num3).zfill(6)\n",
        "    self.account_number = num1 + '-'+ num2 + '-'+ num3\n",
        "    Account.account_count += 1          # 클래스로부터 생성된 계좌 수를 누적으로 더함\n",
        "\n",
        "  def get_account_num(cls):             # 클래스로부터 생선된 계좌의 개수 출력\n",
        "      print(cls.account_count)\n",
        "\n",
        "  def deposit(self, money): \n",
        "      if money >= 1: \n",
        "        self.balance += money\n",
        "        self.deposit_total.append(money)\n",
        "        \n",
        "        self.deposit_count += 1\n",
        "        if self.deposit_count % 5 == 0:\n",
        "          self.balance = self.balance * 1.01\n",
        "\n",
        "  def withdraw(self, money): \n",
        "      if self.balance >= money: \n",
        "        self.balance -= money\n",
        "        self.withdraw_total.append(money)\n",
        " \n",
        "  def display_info(self): \n",
        "    print(f\"은행이름: {self.bank}, 예금주: {self.name}, \\\n",
        "    계좌번호: {self.account_number}, 잔고: {self.balance:,}원\")\n",
        "\n",
        "  def deposit_history(self): \n",
        "    for i in self.deposit_total:\n",
        "      print(i)  \n",
        "\n",
        "  def withdraw_history(self): \n",
        "    for i in self.withdraw_total:\n",
        "     print(i)    \n",
        "   \n",
        "# data = []\n",
        "# k = Account(\"KIM\", 10000000)\n",
        "# l = Account(\"LEE\", 10000)\n",
        "# p = Account(\"PARK\", 10000)\n",
        "\n",
        "# data.append(k)\n",
        "# data.append(l)\n",
        "# data.append(p)\n",
        "\n",
        "# for i in data:\n",
        "#   if i.balance >= 10000000:\n",
        "#     print(i.name)\n",
        "\n",
        "k = Account(\"Kim\", 10000)\n",
        "k.deposit(5000)\n",
        "k.deposit(4000)\n",
        "k.deposit(1000)\n",
        "k.deposit_history()\n",
        "\n",
        "k.withdraw(15000)\n",
        "k.withdraw(3000)\n",
        "k.withdraw_history()"
      ]
    },
    {
      "cell_type": "code",
      "source": [
        "# MainQuest Q10. 입출금 내역 입금과 출금 내역이 기록되도록 코드를 업데이트 하세요. \n",
        "# 입금 내역과 출금 내역을 출력하는 deposit_history와 withdraw_history 메서드를 추가하세요.\n",
        "\n",
        "# Q9. 객체 순회 반복문을 통해 리스트에 있는 객체를 순회하면서 \n",
        "# 잔고가 100만원 이상인 고객의 정보만 출력하세요.\n",
        "\n",
        "# Q8. 여러 객체 생성 Account 클래스로부터 3개 이상 인스턴스를 생성하고 \n",
        "# 생성된 인스턴스를 리스트에 저장해보세요.\n",
        "\n",
        "# Q7. 이자 지급하기 입금 횟수가 5회가 될 때 \n",
        "# 잔고를 기준으로 1%의 이자가 잔고에 추가되도록 코드를 변경해보세요.\n",
        "\n",
        "# Q6. 정보 출력 메서드 Account 인스턴스에 저장된 정보를 출력하는 display_info() 메서드를 추가하세요. \n",
        "# 잔고는 세자리마다 쉼표를 출력하세요.\n",
        "# 은행이름: SC은행 예금주: 파이썬 계좌번호: 111-11-111111 잔고: 10,000원\n",
        "\n",
        "# Q5. 출금 메서드 Account 클래스에 출금을 위한 withdraw 메서드를 추가하세요. \n",
        "# 출금은 계좌의 잔고 이상으로 출금할 수는 없습니다.\n",
        "\n",
        "# Q4. 입금 메서드 Account 클래스에 입금을 위한 deposit 메서드를 추가하세요. \n",
        "# 입금은 최소 1원 이상만 가능합니다\n",
        "\n",
        "# Q3. 클래스 변수 출력 Account 클래스로부터 생성된 계좌의 개수를 출력하는\n",
        "#  get_account_num() 메서드를 추가하세요.\n",
        "\n",
        "# Q2. 클래스 변수 클래스 변수를 사용해서 \n",
        "# Account 클래스로부터 생성된 계좌 객체의 개수를 저장하세요.\n",
        "\n",
        "# Q1. Account 클래스 은행에 가서 계좌를 개설하면 은행이름, 예금주, 계좌번호, 잔액이 설정됩니다. \n",
        "# Account 클래스를 생성한 후 생성자(hint: 매직매서드..!!)를 구현해보세요. \n",
        "# 생성자에서는 예금주와 초기 잔액만 입력 받습니다. \n",
        "# 은행이름은 SC은행으로 계좌번호는 3자리-2자리-6자리 형태로 랜덤하게 생성됩니다. \n",
        "# 은행이름: SC은행 계좌번호: 111-11-111111"
      ],
      "metadata": {
        "id": "EZPwlud1J1IB"
      },
      "execution_count": null,
      "outputs": []
    }
  ]
}