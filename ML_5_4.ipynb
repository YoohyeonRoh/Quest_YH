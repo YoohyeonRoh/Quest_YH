{
  "nbformat": 4,
  "nbformat_minor": 0,
  "metadata": {
    "colab": {
      "provenance": [],
      "authorship_tag": "ABX9TyOZIBLiHOpEl7Oez8tht435",
      "include_colab_link": true
    },
    "kernelspec": {
      "name": "python3",
      "display_name": "Python 3"
    },
    "language_info": {
      "name": "python"
    }
  },
  "cells": [
    {
      "cell_type": "markdown",
      "metadata": {
        "id": "view-in-github",
        "colab_type": "text"
      },
      "source": [
        "<a href=\"https://colab.research.google.com/github/YoohyeonRoh/Quest_YH/blob/main/ML_5_4.ipynb\" target=\"_parent\"><img src=\"https://colab.research.google.com/assets/colab-badge.svg\" alt=\"Open In Colab\"/></a>"
      ]
    },
    {
      "cell_type": "code",
      "execution_count": 3,
      "metadata": {
        "id": "JxF3w66JyPLI"
      },
      "outputs": [],
      "source": [
        "# 05. 지도학습 분류\n",
        "  # - 분류모델활용, 하이퍼파라미터 튜닝\n",
        "# 1. 의사결정나무: 정확도 약 92%\n",
        "# 2. 랜덤포레스트: 정확도 약 94%\n",
        "# 3. XGboost: 정확도 \n",
        "\n",
        "\n",
        "# 3. XGboost\n",
        "#  1) extreme Gradient Boosting(익스트림 그레이던트 부스팅)\n",
        "#  2) 부스팅(앙상블) 기반의 알고리즘\n",
        "#  3) 트리 앙상블 중 성능이 좋은 알고리즘\n",
        "#  4) 캐글(글로벌 AI 경진대회) 뛰어난 성능을 보이면서 인기가 높아\n",
        " "
      ]
    },
    {
      "cell_type": "code",
      "source": [
        "import pandas as pd\n",
        "from sklearn.model_selection import train_test_split\n",
        "from sklearn.metrics import accuracy_score\n",
        "from sklearn.datasets import load_breast_cancer\n",
        "\n",
        "def make_dataset():\n",
        "    bc = load_breast_cancer()\n",
        "    df = pd.DataFrame(bc.data, columns=bc.feature_names)\n",
        "    df['target'] = bc.target\n",
        "    X_train, X_test, y_train, y_test = train_test_split(\n",
        "        df.drop('target', axis=1), df['target'], test_size=0.5, random_state=1004)\n",
        "    return X_train, X_test, y_train, y_test\n",
        "\n",
        "X_train, X_test, y_train, y_test = make_dataset()\n",
        "X_train.shape, X_test.shape, y_train.shape, y_test.shape"
      ],
      "metadata": {
        "colab": {
          "base_uri": "https://localhost:8080/"
        },
        "id": "VPZtXmnW1SRA",
        "outputId": "e8998b75-ab00-4c83-ec0d-33d1a2ae00ce"
      },
      "execution_count": 4,
      "outputs": [
        {
          "output_type": "execute_result",
          "data": {
            "text/plain": [
              "((284, 30), (285, 30), (284,), (285,))"
            ]
          },
          "metadata": {},
          "execution_count": 4
        }
      ]
    },
    {
      "cell_type": "code",
      "source": [
        "# XGboost\n",
        "from xgboost import XGBClassifier\n",
        "model=XGBClassifier(random_state=0, \n",
        "                   use_label_encoder=False,\n",
        "                   eval_metric='logloss')\n",
        "model.fit(X_train, y_train)\n",
        "pred = model.predict(X_test)\n",
        "accuracy_score(y_test, pred)"
      ],
      "metadata": {
        "colab": {
          "base_uri": "https://localhost:8080/"
        },
        "id": "7_c81DsA0mgN",
        "outputId": "6912f70c-0db5-4553-92fb-77028b458284"
      },
      "execution_count": 5,
      "outputs": [
        {
          "output_type": "stream",
          "name": "stderr",
          "text": [
            "/usr/local/lib/python3.10/dist-packages/xgboost/sklearn.py:1395: UserWarning: `use_label_encoder` is deprecated in 1.7.0.\n",
            "  warnings.warn(\"`use_label_encoder` is deprecated in 1.7.0.\")\n"
          ]
        },
        {
          "output_type": "execute_result",
          "data": {
            "text/plain": [
              "0.9508771929824561"
            ]
          },
          "metadata": {},
          "execution_count": 5
        }
      ]
    },
    {
      "cell_type": "code",
      "source": [
        "# XGboost 하이퍼파라미터 튜닝\n",
        "# - booster(기본값 gbtree): 부스팅 알고리즘 (또는 dart, gblinear)\n",
        "# - objective(기본값 binary:logistic): 이진분류 (다중분류: multi:softmax)\n",
        "# - max_depth(기본값 6): 최대 한도 깊이\n",
        "# - learning_rate(기본값 0.1): 학습률(경사하강법, 기울기가 0인 지점 찾기)\n",
        "# - n_estimators(기본값 100): 트리의 수(앞에서 학습한 트리를 가중치로 다음 트리 학습)\n",
        "#  => learning_rate 값을 올리면, n_estimators값은 내려야 함\n",
        "# - subsample(기본값 1): 훈련 샘플 개수의 비율\n",
        "# - colsample_bytree(기본값 1): 특성 개수의 비율\n",
        "# - n_jobs(기본값 1): 사용 코어 수 (-1: 모든 코어를 다 사용, 사용할 CPU 갯수)"
      ],
      "metadata": {
        "id": "p9Gvrjkm0uaW"
      },
      "execution_count": null,
      "outputs": []
    },
    {
      "cell_type": "code",
      "source": [
        "from xgboost import XGBClassifier\n",
        "model=XGBClassifier(random_state=0, \n",
        "                   use_label_encoder=False,\n",
        "                   eval_metric='logloss',\n",
        "                   booster = 'gbtree',\n",
        "                   objective ='binary:logistic',\n",
        "                   max_depth=6,\n",
        "                   learning_rate = 0.05,\n",
        "                   n_estimators=500,\n",
        "                    subsample =1,\n",
        "                    colsample_bytree=1,\n",
        "                    n_jobs=-1)\n",
        "\n",
        "model.fit(X_train, y_train)\n",
        "pred = model.predict(X_test)\n",
        "accuracy_score(y_test, pred)"
      ],
      "metadata": {
        "colab": {
          "base_uri": "https://localhost:8080/"
        },
        "id": "bGccJxkv3bBv",
        "outputId": "a1202298-b9cc-4c5e-b0f0-1e4110d44009"
      },
      "execution_count": 6,
      "outputs": [
        {
          "output_type": "stream",
          "name": "stderr",
          "text": [
            "/usr/local/lib/python3.10/dist-packages/xgboost/sklearn.py:1395: UserWarning: `use_label_encoder` is deprecated in 1.7.0.\n",
            "  warnings.warn(\"`use_label_encoder` is deprecated in 1.7.0.\")\n"
          ]
        },
        {
          "output_type": "execute_result",
          "data": {
            "text/plain": [
              "0.9649122807017544"
            ]
          },
          "metadata": {},
          "execution_count": 6
        }
      ]
    },
    {
      "cell_type": "code",
      "source": [
        "# 조기종료(괜찮은 학습 결과가 나오면 조기종료)\n",
        "from xgboost import XGBClassifier\n",
        "model=XGBClassifier(random_state=0, \n",
        "                   use_label_encoder=False,\n",
        "                   eval_metric='logloss',\n",
        "                   learning_rate = 0.05,\n",
        "                   n_estimators=500)\n",
        "\n",
        "eval_set=[[X_test, y_test]] #검증할 데이터\n",
        "model.fit(X_train, y_train, eval_set=eval_set, \n",
        "          early_stopping_rounds=10) # 10번을 돌렸는데 성능향상이 없을때 종료\n",
        "\n",
        "pred = model.predict(X_test)\n",
        "accuracy_score(y_test, pred)"
      ],
      "metadata": {
        "colab": {
          "base_uri": "https://localhost:8080/"
        },
        "id": "0_3FCVTm31L-",
        "outputId": "e8d080fe-00d7-42ac-9639-6fefe83d2cda"
      },
      "execution_count": 7,
      "outputs": [
        {
          "output_type": "stream",
          "name": "stdout",
          "text": [
            "[0]\tvalidation_0-logloss:0.65391\n",
            "[1]\tvalidation_0-logloss:0.61861\n",
            "[2]\tvalidation_0-logloss:0.58697\n",
            "[3]\tvalidation_0-logloss:0.55756\n",
            "[4]\tvalidation_0-logloss:0.53038\n",
            "[5]\tvalidation_0-logloss:0.50611\n",
            "[6]\tvalidation_0-logloss:0.48363\n",
            "[7]\tvalidation_0-logloss:0.46304\n",
            "[8]\tvalidation_0-logloss:0.44332\n",
            "[9]\tvalidation_0-logloss:0.42512\n",
            "[10]\tvalidation_0-logloss:0.40821\n",
            "[11]\tvalidation_0-logloss:0.39260\n",
            "[12]\tvalidation_0-logloss:0.37838\n",
            "[13]\tvalidation_0-logloss:0.36512\n",
            "[14]\tvalidation_0-logloss:0.35276\n",
            "[15]\tvalidation_0-logloss:0.34090\n",
            "[16]\tvalidation_0-logloss:0.33018\n",
            "[17]\tvalidation_0-logloss:0.31967\n",
            "[18]\tvalidation_0-logloss:0.30997\n",
            "[19]\tvalidation_0-logloss:0.30105\n",
            "[20]\tvalidation_0-logloss:0.29259\n",
            "[21]\tvalidation_0-logloss:0.28478\n",
            "[22]\tvalidation_0-logloss:0.27725\n",
            "[23]\tvalidation_0-logloss:0.27027\n",
            "[24]\tvalidation_0-logloss:0.26358\n",
            "[25]\tvalidation_0-logloss:0.25755\n",
            "[26]\tvalidation_0-logloss:0.25139\n",
            "[27]\tvalidation_0-logloss:0.24593\n",
            "[28]\tvalidation_0-logloss:0.24103\n"
          ]
        },
        {
          "output_type": "stream",
          "name": "stderr",
          "text": [
            "/usr/local/lib/python3.10/dist-packages/xgboost/sklearn.py:1395: UserWarning: `use_label_encoder` is deprecated in 1.7.0.\n",
            "  warnings.warn(\"`use_label_encoder` is deprecated in 1.7.0.\")\n",
            "/usr/local/lib/python3.10/dist-packages/xgboost/sklearn.py:835: UserWarning: `early_stopping_rounds` in `fit` method is deprecated for better compatibility with scikit-learn, use `early_stopping_rounds` in constructor or`set_params` instead.\n",
            "  warnings.warn(\n"
          ]
        },
        {
          "output_type": "stream",
          "name": "stdout",
          "text": [
            "[29]\tvalidation_0-logloss:0.23648\n",
            "[30]\tvalidation_0-logloss:0.23197\n",
            "[31]\tvalidation_0-logloss:0.22778\n",
            "[32]\tvalidation_0-logloss:0.22354\n",
            "[33]\tvalidation_0-logloss:0.21985\n",
            "[34]\tvalidation_0-logloss:0.21678\n",
            "[35]\tvalidation_0-logloss:0.21353\n",
            "[36]\tvalidation_0-logloss:0.21061\n",
            "[37]\tvalidation_0-logloss:0.20800\n",
            "[38]\tvalidation_0-logloss:0.20558\n",
            "[39]\tvalidation_0-logloss:0.20268\n",
            "[40]\tvalidation_0-logloss:0.20042\n",
            "[41]\tvalidation_0-logloss:0.19771\n",
            "[42]\tvalidation_0-logloss:0.19510\n",
            "[43]\tvalidation_0-logloss:0.19354\n",
            "[44]\tvalidation_0-logloss:0.19128\n",
            "[45]\tvalidation_0-logloss:0.18976\n",
            "[46]\tvalidation_0-logloss:0.18854\n",
            "[47]\tvalidation_0-logloss:0.18668\n",
            "[48]\tvalidation_0-logloss:0.18535\n",
            "[49]\tvalidation_0-logloss:0.18346\n",
            "[50]\tvalidation_0-logloss:0.18234\n",
            "[51]\tvalidation_0-logloss:0.18057\n",
            "[52]\tvalidation_0-logloss:0.17897\n",
            "[53]\tvalidation_0-logloss:0.17815\n",
            "[54]\tvalidation_0-logloss:0.17703\n",
            "[55]\tvalidation_0-logloss:0.17564\n",
            "[56]\tvalidation_0-logloss:0.17445\n",
            "[57]\tvalidation_0-logloss:0.17335\n",
            "[58]\tvalidation_0-logloss:0.17179\n",
            "[59]\tvalidation_0-logloss:0.17106\n",
            "[60]\tvalidation_0-logloss:0.17022\n",
            "[61]\tvalidation_0-logloss:0.16983\n",
            "[62]\tvalidation_0-logloss:0.16899\n",
            "[63]\tvalidation_0-logloss:0.16851\n",
            "[64]\tvalidation_0-logloss:0.16776\n",
            "[65]\tvalidation_0-logloss:0.16681\n",
            "[66]\tvalidation_0-logloss:0.16665\n",
            "[67]\tvalidation_0-logloss:0.16632\n",
            "[68]\tvalidation_0-logloss:0.16533\n",
            "[69]\tvalidation_0-logloss:0.16539\n",
            "[70]\tvalidation_0-logloss:0.16520\n",
            "[71]\tvalidation_0-logloss:0.16446\n",
            "[72]\tvalidation_0-logloss:0.16443\n",
            "[73]\tvalidation_0-logloss:0.16449\n",
            "[74]\tvalidation_0-logloss:0.16469\n",
            "[75]\tvalidation_0-logloss:0.16493\n",
            "[76]\tvalidation_0-logloss:0.16526\n",
            "[77]\tvalidation_0-logloss:0.16542\n",
            "[78]\tvalidation_0-logloss:0.16545\n",
            "[79]\tvalidation_0-logloss:0.16448\n",
            "[80]\tvalidation_0-logloss:0.16470\n",
            "[81]\tvalidation_0-logloss:0.16494\n",
            "[82]\tvalidation_0-logloss:0.16506\n"
          ]
        },
        {
          "output_type": "execute_result",
          "data": {
            "text/plain": [
              "0.9473684210526315"
            ]
          },
          "metadata": {},
          "execution_count": 7
        }
      ]
    }
  ]
}